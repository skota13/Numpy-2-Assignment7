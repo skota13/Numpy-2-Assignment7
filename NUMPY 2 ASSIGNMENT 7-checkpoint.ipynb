{
 "cells": [
  {
   "cell_type": "markdown",
   "metadata": {},
   "source": [
    "# NUMPY 2 Assignment 7 - Moving Average"
   ]
  },
  {
   "cell_type": "code",
   "execution_count": 1,
   "metadata": {},
   "outputs": [],
   "source": [
    "import numpy as np\n",
    "def movingAvg(data,wind):\n",
    "    z=len(data)-wind+1\n",
    "    k=0\n",
    "    movingAvgList=0\n",
    "    mvavg=[]\n",
    "    while (k<z):\n",
    "        movingAvgList=np.array(data[k:k+wind])\n",
    "        mvavg.append(round(movingAvgList.mean(),1))\n",
    "        k=k+1\n",
    "    return mvavg        "
   ]
  },
  {
   "cell_type": "code",
   "execution_count": 2,
   "metadata": {},
   "outputs": [
    {
     "data": {
      "text/plain": [
       "[5.0,\n",
       " 4.7000000000000002,\n",
       " 5.7000000000000002,\n",
       " 6.7000000000000002,\n",
       " 9.6999999999999993,\n",
       " 28.699999999999999,\n",
       " 49.299999999999997,\n",
       " 72.700000000000003,\n",
       " 84.0,\n",
       " 93.299999999999997,\n",
       " 116.3]"
      ]
     },
     "execution_count": 2,
     "metadata": {},
     "output_type": "execute_result"
    }
   ],
   "source": [
    "movingAvg([3, 5, 7, 2, 8, 10, 11, 65, 72, 81, 99, 100, 150],3)"
   ]
  },
  {
   "cell_type": "code",
   "execution_count": null,
   "metadata": {},
   "outputs": [],
   "source": []
  }
 ],
 "metadata": {
  "kernelspec": {
   "display_name": "Python 3",
   "language": "python",
   "name": "python3"
  },
  "language_info": {
   "codemirror_mode": {
    "name": "ipython",
    "version": 3
   },
   "file_extension": ".py",
   "mimetype": "text/x-python",
   "name": "python",
   "nbconvert_exporter": "python",
   "pygments_lexer": "ipython3",
   "version": "3.6.5"
  }
 },
 "nbformat": 4,
 "nbformat_minor": 2
}
